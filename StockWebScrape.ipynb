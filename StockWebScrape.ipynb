{
  "cells": [
    {
      "cell_type": "code",
      "execution_count": 2,
      "metadata": {
        "colab": {
          "base_uri": "https://localhost:8080/",
          "height": 173
        },
        "id": "q2VXhFOfofOI",
        "outputId": "446fbf95-117c-4565-f750-0fc81ca52ff1"
      },
      "outputs": [],
      "source": [
        "import pandas as pd \n",
        "from pandas import DataFrame as df\n",
        "from bs4 import BeautifulSoup\n",
        "import io\n",
        "import requests\n",
        "from datetime import datetime as dt"
      ]
    },
    {
      "cell_type": "markdown",
      "metadata": {
        "id": "IwlBSu4YovnW"
      },
      "source": [
        "# Web Scraping"
      ]
    },
    {
      "cell_type": "code",
      "execution_count": 3,
      "metadata": {
        "colab": {
          "base_uri": "https://localhost:8080/",
          "height": 208
        },
        "id": "6HwnG9I6o9na",
        "outputId": "5be5b4f9-cbdb-4b62-97e5-799fddc0a4cb"
      },
      "outputs": [
        {
          "data": {
            "text/plain": [
              "'บริษัท จัสมิน เทคโนโลยี โซลูชั่น จำกัด (มหาชน)'"
            ]
          },
          "execution_count": 3,
          "metadata": {},
          "output_type": "execute_result"
        }
      ],
      "source": [
        "\n",
        "url = f'https://www.set.or.th/set/factsheet.do?symbol=jts&ssoPageId=3&language=th&country=TH'\n",
        "\n",
        "source = requests.get(url)\n",
        "soup = BeautifulSoup(source.content, 'lxml', from_encoding='utf-8')\n",
        "table = soup.find('table', class_='table-factsheet-padding3')\n",
        "rows = table.find_all('tr')\n",
        "table.find('td', class_='factsheet-heading2').text\n"
      ]
    },
    {
      "cell_type": "code",
      "execution_count": 4,
      "metadata": {
        "id": "r4fHKlsKG3Q0"
      },
      "outputs": [
        {
          "data": {
            "text/html": [
              "<div>\n",
              "<style scoped>\n",
              "    .dataframe tbody tr th:only-of-type {\n",
              "        vertical-align: middle;\n",
              "    }\n",
              "\n",
              "    .dataframe tbody tr th {\n",
              "        vertical-align: top;\n",
              "    }\n",
              "\n",
              "    .dataframe thead th {\n",
              "        text-align: right;\n",
              "    }\n",
              "</style>\n",
              "<table border=\"1\" class=\"dataframe\">\n",
              "  <thead>\n",
              "    <tr style=\"text-align: right;\">\n",
              "      <th></th>\n",
              "      <th>Symbols</th>\n",
              "    </tr>\n",
              "  </thead>\n",
              "  <tbody>\n",
              "    <tr>\n",
              "      <th>0</th>\n",
              "      <td>2S</td>\n",
              "    </tr>\n",
              "    <tr>\n",
              "      <th>1</th>\n",
              "      <td>3K-BAT</td>\n",
              "    </tr>\n",
              "    <tr>\n",
              "      <th>2</th>\n",
              "      <td>7UP</td>\n",
              "    </tr>\n",
              "    <tr>\n",
              "      <th>3</th>\n",
              "      <td>A</td>\n",
              "    </tr>\n",
              "    <tr>\n",
              "      <th>4</th>\n",
              "      <td>A5</td>\n",
              "    </tr>\n",
              "  </tbody>\n",
              "</table>\n",
              "</div>"
            ],
            "text/plain": [
              "  Symbols\n",
              "0      2S\n",
              "1  3K-BAT\n",
              "2     7UP\n",
              "3       A\n",
              "4      A5"
            ]
          },
          "execution_count": 4,
          "metadata": {},
          "output_type": "execute_result"
        }
      ],
      "source": [
        "ListedCom = pd.read_excel('ListedCompanies.xlsx'\n",
        ",converters = {'Symbols':str}\n",
        ")\n",
        "\n",
        "ListedCom.head()"
      ]
    },
    {
      "cell_type": "code",
      "execution_count": 5,
      "metadata": {
        "id": "dqkJQr160D3z"
      },
      "outputs": [],
      "source": [
        "names = ListedCom['Symbols'].values.tolist()\n",
        "data_all = []\n",
        "next_ = None\n",
        "for name in names :\n",
        "  data_s = [name]\n",
        "  url = 'https://www.set.or.th/set/factsheet.do?symbol='+name+'&ssoPageId=3&language=th&country=TH'\n",
        "  source = requests.get(url)\n",
        "  soup = BeautifulSoup(source.content, 'lxml', from_encoding='utf-8')\n",
        "  tables = soup.find_all('table')\n",
        "  text = []\n",
        "  for table_t in tables :\n",
        "      rows = table_t.find_all('tr')\n",
        "      for row in rows :\n",
        "          data = row.find_all('td')\n",
        "          for element in data :\n",
        "              element_t = element.text\n",
        "              text += [element_t]\n",
        "  columns = [name,'Market','Industry','URL','วันที่ก่อตั้งบริษัท','วันที่จดทะเบียนกับตลท.','ลักษณะธุรกิจ','นโยบายเงินปันผล','% /จำนวนผู้ถือหุ้นรายย่อย']   \n",
        "  for column in columns :\n",
        "      for index, obj in enumerate(text):\n",
        "            if column == 'Market' and (obj[0:9] == 'CG Report') :\n",
        "                data = text[index - 1]\n",
        "            elif column == 'Industry' and (obj[0:9] == 'CG Report') :\n",
        "                data = text[index - 2]\n",
        "            elif column == '% /จำนวนผู้ถือหุ้นรายย่อย' and obj == column :\n",
        "                data = text[index + 2]\n",
        "            elif obj == column :\n",
        "                data = text[index + 1]\n",
        "      data_s +=[data]\n",
        "  data_all +=[data_s]"
      ]
    },
    {
      "cell_type": "code",
      "execution_count": 6,
      "metadata": {},
      "outputs": [
        {
          "data": {
            "text/html": [
              "<div>\n",
              "<style scoped>\n",
              "    .dataframe tbody tr th:only-of-type {\n",
              "        vertical-align: middle;\n",
              "    }\n",
              "\n",
              "    .dataframe tbody tr th {\n",
              "        vertical-align: top;\n",
              "    }\n",
              "\n",
              "    .dataframe thead th {\n",
              "        text-align: right;\n",
              "    }\n",
              "</style>\n",
              "<table border=\"1\" class=\"dataframe\">\n",
              "  <thead>\n",
              "    <tr style=\"text-align: right;\">\n",
              "      <th></th>\n",
              "      <th>Symbol</th>\n",
              "      <th>FullName</th>\n",
              "      <th>Market</th>\n",
              "      <th>Industry</th>\n",
              "      <th>URL</th>\n",
              "      <th>วันที่ก่อตั้งบริษัท</th>\n",
              "      <th>วันที่จดทะเบียนกับตลท.</th>\n",
              "      <th>ลักษณะธุรกิจ</th>\n",
              "      <th>นโยบายเงินปันผล</th>\n",
              "      <th>% /จำนวนผู้ถือหุ้นรายย่อย</th>\n",
              "    </tr>\n",
              "  </thead>\n",
              "  <tbody>\n",
              "    <tr>\n",
              "      <th>0</th>\n",
              "      <td>2S</td>\n",
              "      <td>บริษัท 2 เอส เมทัล จำกัด (มหาชน)</td>\n",
              "      <td>SET</td>\n",
              "      <td>สินค้าอุตสาหกรรม/เหล็ก และ ผลิตภัณฑ์โลหะ</td>\n",
              "      <td>www.ss.co.th</td>\n",
              "      <td>29/05/1992</td>\n",
              "      <td>02/09/2552</td>\n",
              "      <td>แปรรูปเหล็กรูปพรรณ และจัดหาเหล็กรูปพรรณเพื่อจำ...</td>\n",
              "      <td>ไม่ต่ำกว่าร้อยละ 40 ของกำไรสุทธิหลังหักภาษีเงิ...</td>\n",
              "      <td>58.11%</td>\n",
              "    </tr>\n",
              "    <tr>\n",
              "      <th>1</th>\n",
              "      <td>3K-BAT</td>\n",
              "      <td>บริษัท ไทย เอ็นเนอร์จี สโตเรจ เทคโนโลยี จำกัด ...</td>\n",
              "      <td>SET</td>\n",
              "      <td>สินค้าอุตสาหกรรม/ยานยนต์</td>\n",
              "      <td>-</td>\n",
              "      <td>01/10/2020</td>\n",
              "      <td>01/10/2563</td>\n",
              "      <td>ผลิตและจำหน่ายแบตเตอรี่หลากหลายรูปแบบ ได้แก่ 1...</td>\n",
              "      <td>ไม่เกินร้อยละ 50 ของกำไรสุทธิของงบการเงิน (โดย...</td>\n",
              "      <td>2.10%</td>\n",
              "    </tr>\n",
              "    <tr>\n",
              "      <th>2</th>\n",
              "      <td>7UP</td>\n",
              "      <td>บริษัท เซเว่น ยูทิลิตี้ส์ แอนด์ พาวเวอร์ จำกัด...</td>\n",
              "      <td>SET</td>\n",
              "      <td>ทรัพยากร/พลังงานและสาธารณูปโภค</td>\n",
              "      <td>www.sevenup.co.th</td>\n",
              "      <td>18/9/1995</td>\n",
              "      <td>03/04/2545</td>\n",
              "      <td>กลุ่มบริษัทประกอบธุรกิจหลัก 5 ธุรกิจ ได้แก่ 1)...</td>\n",
              "      <td>ไม่ต่ำกว่าร้อยละ 50 ของกำไรสุทธิที่เหลือหลังหั...</td>\n",
              "      <td>66.55%</td>\n",
              "    </tr>\n",
              "    <tr>\n",
              "      <th>3</th>\n",
              "      <td>A</td>\n",
              "      <td>บริษัท อารียา พรอพเพอร์ตี้ จำกัด (มหาชน)</td>\n",
              "      <td>SET</td>\n",
              "      <td>อสังหาริมทรัพย์และก่อสร้าง/พัฒนาอสังหาริมทรัพย...</td>\n",
              "      <td>http://www.areeya.co.th</td>\n",
              "      <td>20/1/2000</td>\n",
              "      <td>01/04/2547</td>\n",
              "      <td>ธุรกิจอสังหาริมทรัพย์ แบ่งเป็น 3 ประเภท 1) โคร...</td>\n",
              "      <td>ประมาณร้อยละ 40 ของกำไรสุทธิหลังหักภาษีเงินได้...</td>\n",
              "      <td>25.86%</td>\n",
              "    </tr>\n",
              "    <tr>\n",
              "      <th>4</th>\n",
              "      <td>A5</td>\n",
              "      <td>บริษัท แอสเซท ไฟว์ กรุ๊ป จำกัด (มหาชน)</td>\n",
              "      <td>mai</td>\n",
              "      <td>บริการ/</td>\n",
              "      <td>www.assetfive.co.th</td>\n",
              "      <td>19/09/2002</td>\n",
              "      <td>17/11/2546</td>\n",
              "      <td>เป็นบริษัทโฮลดิ้งคอมปานีเพื่อลงทุนในบริษัทพัฒน...</td>\n",
              "      <td>ไม่ต่ำกว่าร้อยละ 50 ของกำไรสุทธิหลังหักภาษีเงิ...</td>\n",
              "      <td>20.60%</td>\n",
              "    </tr>\n",
              "  </tbody>\n",
              "</table>\n",
              "</div>"
            ],
            "text/plain": [
              "   Symbol                                           FullName   Market  \\\n",
              "0      2S                   บริษัท 2 เอส เมทัล จำกัด (มหาชน)  SET       \n",
              "1  3K-BAT  บริษัท ไทย เอ็นเนอร์จี สโตเรจ เทคโนโลยี จำกัด ...  SET       \n",
              "2     7UP  บริษัท เซเว่น ยูทิลิตี้ส์ แอนด์ พาวเวอร์ จำกัด...  SET       \n",
              "3       A           บริษัท อารียา พรอพเพอร์ตี้ จำกัด (มหาชน)  SET       \n",
              "4      A5             บริษัท แอสเซท ไฟว์ กรุ๊ป จำกัด (มหาชน)  mai       \n",
              "\n",
              "                                            Industry  \\\n",
              "0       สินค้าอุตสาหกรรม/เหล็ก และ ผลิตภัณฑ์โลหะ       \n",
              "1                       สินค้าอุตสาหกรรม/ยานยนต์       \n",
              "2                 ทรัพยากร/พลังงานและสาธารณูปโภค       \n",
              "3  อสังหาริมทรัพย์และก่อสร้าง/พัฒนาอสังหาริมทรัพย...   \n",
              "4                                        บริการ/       \n",
              "\n",
              "                        URL วันที่ก่อตั้งบริษัท วันที่จดทะเบียนกับตลท.  \\\n",
              "0             www.ss.co.th           29/05/1992             02/09/2552   \n",
              "1                       -            01/10/2020             01/10/2563   \n",
              "2        www.sevenup.co.th            18/9/1995             03/04/2545   \n",
              "3  http://www.areeya.co.th            20/1/2000             01/04/2547   \n",
              "4      www.assetfive.co.th           19/09/2002             17/11/2546   \n",
              "\n",
              "                                        ลักษณะธุรกิจ  \\\n",
              "0  แปรรูปเหล็กรูปพรรณ และจัดหาเหล็กรูปพรรณเพื่อจำ...   \n",
              "1  ผลิตและจำหน่ายแบตเตอรี่หลากหลายรูปแบบ ได้แก่ 1...   \n",
              "2  กลุ่มบริษัทประกอบธุรกิจหลัก 5 ธุรกิจ ได้แก่ 1)...   \n",
              "3  ธุรกิจอสังหาริมทรัพย์ แบ่งเป็น 3 ประเภท 1) โคร...   \n",
              "4  เป็นบริษัทโฮลดิ้งคอมปานีเพื่อลงทุนในบริษัทพัฒน...   \n",
              "\n",
              "                                     นโยบายเงินปันผล % /จำนวนผู้ถือหุ้นรายย่อย  \n",
              "0  ไม่ต่ำกว่าร้อยละ 40 ของกำไรสุทธิหลังหักภาษีเงิ...                    58.11%  \n",
              "1  ไม่เกินร้อยละ 50 ของกำไรสุทธิของงบการเงิน (โดย...                     2.10%  \n",
              "2  ไม่ต่ำกว่าร้อยละ 50 ของกำไรสุทธิที่เหลือหลังหั...                    66.55%  \n",
              "3  ประมาณร้อยละ 40 ของกำไรสุทธิหลังหักภาษีเงินได้...                    25.86%  \n",
              "4  ไม่ต่ำกว่าร้อยละ 50 ของกำไรสุทธิหลังหักภาษีเงิ...                    20.60%  "
            ]
          },
          "execution_count": 6,
          "metadata": {},
          "output_type": "execute_result"
        }
      ],
      "source": [
        "ListStock = df(data_all,columns=['Symbol','FullName','Market','Industry','URL','วันที่ก่อตั้งบริษัท','วันที่จดทะเบียนกับตลท.','ลักษณะธุรกิจ','นโยบายเงินปันผล','% /จำนวนผู้ถือหุ้นรายย่อย'])\n",
        "\n",
        "ListStock.head()"
      ]
    }
  ],
  "metadata": {
    "colab": {
      "name": "StockMean&SD.ipynb",
      "provenance": [],
      "toc_visible": true
    },
    "kernelspec": {
      "display_name": "Python 3",
      "name": "python3"
    },
    "language_info": {
      "codemirror_mode": {
        "name": "ipython",
        "version": 3
      },
      "file_extension": ".py",
      "mimetype": "text/x-python",
      "name": "python",
      "nbconvert_exporter": "python",
      "pygments_lexer": "ipython3",
      "version": "3.8.8"
    }
  },
  "nbformat": 4,
  "nbformat_minor": 0
}
